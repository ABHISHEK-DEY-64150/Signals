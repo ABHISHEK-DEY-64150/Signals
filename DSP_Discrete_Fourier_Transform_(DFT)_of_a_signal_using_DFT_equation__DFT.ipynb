{
  "nbformat": 4,
  "nbformat_minor": 0,
  "metadata": {
    "colab": {
      "provenance": [],
      "authorship_tag": "ABX9TyM0T1UnYi43vX+W028085Yx",
      "include_colab_link": true
    },
    "kernelspec": {
      "name": "python3",
      "display_name": "Python 3"
    },
    "language_info": {
      "name": "python"
    }
  },
  "cells": [
    {
      "cell_type": "markdown",
      "metadata": {
        "id": "view-in-github",
        "colab_type": "text"
      },
      "source": [
        "<a href=\"https://colab.research.google.com/github/ABHISHEK-DEY-64150/Signals/blob/main/DSP_Discrete_Fourier_Transform_(DFT)_of_a_signal_using_DFT_equation__DFT.ipynb\" target=\"_parent\"><img src=\"https://colab.research.google.com/assets/colab-badge.svg\" alt=\"Open In Colab\"/></a>"
      ]
    },
    {
      "cell_type": "markdown",
      "metadata": {
        "id": "uAb5aFTqEX43"
      },
      "source": [
        "**Name: Abhishek Dey**\\\n",
        "**Reg.:2017331021**\n",
        "\n",
        "***Compute and plot Discrete Fourier Transform (DFT) of a signal using DFT equation.***"
      ]
    },
    {
      "cell_type": "code",
      "metadata": {
        "id": "HxHZdxWOEa2b"
      },
      "source": [
        "import matplotlib.pyplot as plt\n",
        "import numpy as np\n",
        "import math\n",
        "import cmath"
      ],
      "execution_count": null,
      "outputs": []
    },
    {
      "cell_type": "code",
      "metadata": {
        "colab": {
          "base_uri": "https://localhost:8080/",
          "height": 489
        },
        "id": "LqSzXeSyEYLZ",
        "outputId": "938ac7af-ec2a-490a-8663-c9e4a7bc86d5"
      },
      "source": [
        "x = [0,1,3,5]\n",
        "N = len(x)\n",
        "\n",
        "print('N=\\n',N)\n",
        "\n",
        "X = [0+0j,0+0j,0+0j,0+0j]\n",
        "\n",
        "x_absolute_value = [0,0,0,0]\n",
        "\n",
        "for K in range(N):\n",
        "        temp = 0+0j\n",
        "        for n in range(N):\n",
        "            temp = temp+x[n]*cmath.exp(-2*cmath.sqrt(-1)*cmath.pi*n*K/N)\n",
        "        X[K] = temp\n",
        "        x_absolute_value[K] = abs(X[K])\n",
        "\n",
        "print('Discrete Fourier Transform X[k] =\\n',X)\n",
        "\n",
        "print('Magnitude response |X(K)|=\\n',x_absolute_value)\n",
        "\n",
        "n = np.arange(0,N,1)\n",
        "\n",
        "plt.figure(figsize=(15,5))\n",
        "plt.stem(n,x_absolute_value)\n",
        "plt.title('DFT')\n",
        "plt.xlabel('Discrete Frequency  K')\n",
        "plt.ylabel('Amplitude')\n",
        "plt.show()\n",
        "\n"
      ],
      "execution_count": null,
      "outputs": [
        {
          "output_type": "stream",
          "name": "stdout",
          "text": [
            "N=\n",
            " 4\n",
            "Discrete Fourier Transform X[k] =\n",
            " [(9+0j), (-3.000000000000001+3.9999999999999996j), (-3-1.224646799147353e-15j), (-2.9999999999999973-4.000000000000001j)]\n",
            "Magnitude response |X(K)|=\n",
            " [9.0, 5.0, 3.0, 4.999999999999999]\n"
          ]
        },
        {
          "output_type": "stream",
          "name": "stderr",
          "text": [
            "/usr/local/lib/python3.7/dist-packages/ipykernel_launcher.py:24: UserWarning: In Matplotlib 3.3 individual lines on a stem plot will be added as a LineCollection instead of individual lines. This significantly improves the performance of a stem plot. To remove this warning and switch to the new behaviour, set the \"use_line_collection\" keyword argument to True.\n"
          ]
        },
        {
          "output_type": "display_data",
          "data": {
            "image/png": "[encoded data removed]",
            "text/plain": [
              "<Figure size 1080x360 with 1 Axes>"
            ]
          },
          "metadata": {
            "needs_background": "light"
          }
        }
      ]
    }
  ]
}