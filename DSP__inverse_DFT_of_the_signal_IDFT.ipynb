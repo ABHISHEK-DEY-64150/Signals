{
  "nbformat": 4,
  "nbformat_minor": 0,
  "metadata": {
    "colab": {
      "provenance": [],
      "authorship_tag": "ABX9TyN+V2i7wH+g/F4mIOXYAlVt",
      "include_colab_link": true
    },
    "kernelspec": {
      "name": "python3",
      "display_name": "Python 3"
    },
    "language_info": {
      "name": "python"
    }
  },
  "cells": [
    {
      "cell_type": "markdown",
      "metadata": {
        "id": "view-in-github",
        "colab_type": "text"
      },
      "source": [
        "<a href=\"https://colab.research.google.com/github/ABHISHEK-DEY-64150/Signals/blob/main/DSP__inverse_DFT_of_the_signal_IDFT.ipynb\" target=\"_parent\"><img src=\"https://colab.research.google.com/assets/colab-badge.svg\" alt=\"Open In Colab\"/></a>"
      ]
    },
    {
      "cell_type": "markdown",
      "metadata": {
        "id": "-f8p8aLcG7XU"
      },
      "source": [
        "**Name: Abhishek Dey**\\\n",
        "**Reg.:2017331021**\n",
        "\n",
        "***Compute the inverse DFT of the signal obtained in (4).***"
      ]
    },
    {
      "cell_type": "code",
      "metadata": {
        "id": "O0f83f9xG7xI"
      },
      "source": [
        "import matplotlib.pyplot as plt\n",
        "import numpy as np\n",
        "import math\n",
        "import cmath"
      ],
      "execution_count": null,
      "outputs": []
    },
    {
      "cell_type": "code",
      "metadata": {
        "colab": {
          "base_uri": "https://localhost:8080/",
          "height": 489
        },
        "id": "SbXpuhGIHVLQ",
        "outputId": "8fa25b0e-7d8f-4305-e17a-58978877bf3b"
      },
      "source": [
        "N = 4\n",
        "\n",
        "#From Lab_4 DFT X[K]-->\n",
        "X = [(9+0j), (-3.000000000000001+3.9999999999999996j), (-3-1.224646799147353e-15j), (-2.9999999999999973-4.000000000000001j)]\n",
        "\n",
        "x = [0j,0j,0j,0j]\n",
        "\n",
        "print('The DFT from previously calculated X=\\n',X)\n",
        "print('N=\\n',N)\n",
        "for n in range(N):\n",
        "        temp = 0+0j\n",
        "        for K in range(N):\n",
        "            temp = temp+X[K]*cmath.exp(2*cmath.sqrt(-1)*cmath.pi*n*K/N)\n",
        "        x[n] = temp/N        \n",
        "\n",
        "\n",
        "xn = np.real(x)\n",
        "xn = np.round(x_n,decimals=0)    \n",
        "\n",
        "print('Inverse Discrete Fourier Transform x[n]=\\n',xn) \n",
        "\n",
        "\n",
        "n = np.arange(0,N,1)\n",
        "\n",
        "plt.figure(figsize=(15,5))\n",
        "plt.stem(n,xn)\n",
        "plt.title('Inverse Discrete Fourier Transform x[n] --> IDFT')\n",
        "plt.xlabel('n')\n",
        "plt.ylabel('Amplitude')\n",
        "plt.show()"
      ],
      "execution_count": null,
      "outputs": [
        {
          "output_type": "stream",
          "name": "stdout",
          "text": [
            "The DFT from previously calculated X=\n",
            " [(9+0j), (-3.000000000000001+3.9999999999999996j), (-3-1.224646799147353e-15j), (-2.9999999999999973-4.000000000000001j)]\n",
            "N=\n",
            " 4\n",
            "Inverse Discrete Fourier Transform x[n]=\n",
            " [0. 1. 3. 5.]\n"
          ]
        },
        {
          "output_type": "stream",
          "name": "stderr",
          "text": [
            "/usr/local/lib/python3.7/dist-packages/ipykernel_launcher.py:26: UserWarning: In Matplotlib 3.3 individual lines on a stem plot will be added as a LineCollection instead of individual lines. This significantly improves the performance of a stem plot. To remove this warning and switch to the new behaviour, set the \"use_line_collection\" keyword argument to True.\n"
          ]
        },
        {
          "output_type": "display_data",
          "data": {
            "image/png": "[encoded data removed]",
            "text/plain": [
              "<Figure size 1080x360 with 1 Axes>"
            ]
          },
          "metadata": {
            "needs_background": "light"
          }
        }
      ]
    }
  ]
}